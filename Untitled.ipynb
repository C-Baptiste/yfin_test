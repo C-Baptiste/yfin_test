{
 "cells": [
  {
   "cell_type": "code",
   "execution_count": 25,
   "id": "911c1658-481b-4f46-b251-4b7dd236abed",
   "metadata": {},
   "outputs": [],
   "source": [
    "import yfinance as yf"
   ]
  },
  {
   "cell_type": "code",
   "execution_count": 27,
   "id": "d1dc03bf-fc34-4e5d-b5b5-0af283a1e7cf",
   "metadata": {},
   "outputs": [],
   "source": [
    "cac40 = [\"AI.PA\", \"AIR.PA\", \"ALO.PA\", \"CS.PA\", \"BNP.PA\", \n",
    "         \"EN.PA\", \"CAP.PA\", \"CA.PA\", \"ACA.PA\", \"ENGI.PA\", \n",
    "         \"EL.PA\", \"ERF.PA\", \"LR.PA\", \"ML.PA\", \"ORA.PA\", \n",
    "         \"PUB.PA\", \"RNO.PA\", \"SAF.PA\", \"SGO.PA\", \"SU.PA\", \n",
    "         \"GLE.PA\", \"STLA.PA\", \"STM.PA\", \"TEP.PA\", \"HO.PA\", \n",
    "         \"TTE.PA\", \"VIE.PA\", \"DG.PA\", \"VIV.PA\", \"WLN.PA\"]"
   ]
  },
  {
   "cell_type": "code",
   "execution_count": 7,
   "id": "aa3a6049-7185-4aac-a181-2808ba920b72",
   "metadata": {},
   "outputs": [],
   "source": [
    "ora = yf.Ticker(\"ORA.PA\")"
   ]
  },
  {
   "cell_type": "code",
   "execution_count": 26,
   "id": "18f47894-251d-472d-b282-6947e5e55546",
   "metadata": {},
   "outputs": [
    {
     "data": {
      "text/plain": [
       "0.75241494"
      ]
     },
     "execution_count": 26,
     "metadata": {},
     "output_type": "execute_result"
    }
   ],
   "source": [
    "ora.info.get('priceToBook')"
   ]
  },
  {
   "cell_type": "code",
   "execution_count": 28,
   "id": "7c549c9a-d065-4d60-8f37-2748939d4619",
   "metadata": {},
   "outputs": [
    {
     "name": "stdout",
     "output_type": "stream",
     "text": [
      "AI.PA 2.6774333\n",
      "AIR.PA 8.792306\n",
      "ALO.PA 0.7458621\n",
      "CS.PA 1.0177243\n",
      "BNP.PA 0.46218666\n",
      "EN.PA 0.87628865\n",
      "CAP.PA 3.0876095\n",
      "CA.PA 1.0708816\n",
      "ACA.PA 0.39568278\n",
      "ENGI.PA 0.62840945\n",
      "EL.PA 1.7674959\n",
      "ERF.PA 2.519756\n",
      "LR.PA 2.9197388\n",
      "ML.PA None\n",
      "ORA.PA 0.75241494\n",
      "PUB.PA 1.4413977\n",
      "RNO.PA 0.30620977\n",
      "SAF.PA 4.533902\n",
      "SGO.PA 0.8683979\n",
      "SU.PA 2.622504\n",
      "GLE.PA 0.2813066\n",
      "STLA.PA 0.6020344\n",
      "STM.PA 2.9054596\n",
      "TEP.PA 4.155252\n",
      "HO.PA 3.1620831\n",
      "TTE.PA 1.1270761\n",
      "VIE.PA 1.1084269\n",
      "DG.PA 1.953718\n",
      "VIV.PA 0.4222817\n",
      "WLN.PA 1.3005438\n"
     ]
    }
   ],
   "source": [
    "for company in cac40:\n",
    "    data = yf.Ticker(company)\n",
    "    print(company, data.info.get('priceToBook'))"
   ]
  },
  {
   "cell_type": "code",
   "execution_count": null,
   "id": "68f578de-82b8-4bad-a84c-a14a1e84a939",
   "metadata": {},
   "outputs": [],
   "source": []
  }
 ],
 "metadata": {
  "kernelspec": {
   "display_name": "Python 3 (ipykernel)",
   "language": "python",
   "name": "python3"
  },
  "language_info": {
   "codemirror_mode": {
    "name": "ipython",
    "version": 3
   },
   "file_extension": ".py",
   "mimetype": "text/x-python",
   "name": "python",
   "nbconvert_exporter": "python",
   "pygments_lexer": "ipython3",
   "version": "3.10.8"
  }
 },
 "nbformat": 4,
 "nbformat_minor": 5
}
