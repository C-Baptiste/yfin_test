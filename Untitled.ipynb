{
 "cells": [
  {
   "cell_type": "code",
   "execution_count": 4,
   "id": "911c1658-481b-4f46-b251-4b7dd236abed",
   "metadata": {},
   "outputs": [],
   "source": [
    "import yfinance as yf"
   ]
  },
  {
   "cell_type": "code",
   "execution_count": 2,
   "id": "b81d415a-0736-4acf-b372-3dd4f6253f5c",
   "metadata": {},
   "outputs": [],
   "source": [
    "cac40 = [[\"Air Liquide\", \"AI.PA\"],\n",
    "        [\"Airbus\", \"AIR.PA\"],\n",
    "        [\"Alstom\", \"ALO.PA\"],\n",
    "        [\"ArcelorMittal\",\"MT.AS\"],\n",
    "        [\"AXA\", \"CS.PA\"],\n",
    "        [\"BNP Paribas\", \"BNP.PA\"],\n",
    "        [\"Bouygues\", \"EN.PA\"],\n",
    "        [\"Capgemini\", \"CAP.PA\"],\n",
    "        [\"Carrefour\", \"CA.PA\"],\n",
    "        [\"Crédit Agricole\", \"ACA.PA\"],\n",
    "        [\"Danone\", \"BN.PA\"],\n",
    "        [\"Dassault Systèmes\", \"DSY.PA\"],\n",
    "        [\"Engie\", \"ENGI.PA\"],\n",
    "        [\"EssilorLuxottica\", \"EL.PA\"],\n",
    "        [\"Eurofins Scientific\", \"ERF.PA\"],\n",
    "        [\"Hermès\", \"RMS.PA\"],\n",
    "        [\"Kering\", \"KER.PA\"],\n",
    "        [\"L Oréal\", \"OR.PA\"],\n",
    "        [\"Legrand\", \"LR.PA\"],\n",
    "        [\"LVMH\", \"MC.PA\"],\n",
    "        [\"Michelin\", \"ML.PA\"],\n",
    "        [\"Orange\", \"ORA.PA\"],\n",
    "        [\"Pernod Ricard\", \"RI.PA\"],\n",
    "        [\"Publicis\", \"PUB.PA\"],\n",
    "        [\"Renault\", \"RNO.PA\"],\n",
    "        [\"Safran\", \"SAF.PA\"],\n",
    "        [\"Saint-Gobain\", \"SGO.PA\"],\n",
    "        [\"Sanofi\", \"SAN.PA\"],\n",
    "        [\"Schneider Electric\", \"SU.PA\"],\n",
    "        [\"Société Générale\", \"GLE.PA\"],\n",
    "        [\"Stellantis\", \"STLA.PA\"],\n",
    "        [\"STMicroelectronics\", \"STM.PA\"],\n",
    "        [\"Teleperformance\", \"TEP.PA\"],\n",
    "        [\"Thales\", \"HO.PA\"],\n",
    "        [\"TotalEnergies\", \"TTE.PA\"],\n",
    "        [\"Unibail-Rodamco-Westfield\", \"URW.AS\"],\n",
    "        [\"Veolia\", \"VIE.PA\"],\n",
    "        [\"Vinci\", \"DG.PA\"],\n",
    "        [\"Vivendi\", \"VIV.PA\"],\n",
    "        [\"Worldline\", \"WLN.PA\"]]"
   ]
  },
  {
   "cell_type": "code",
   "execution_count": 5,
   "id": "db1f05f0-b460-4051-966f-2dd564bebab1",
   "metadata": {},
   "outputs": [
    {
     "name": "stdout",
     "output_type": "stream",
     "text": [
      "Air Liquide 2.6910427\n",
      "Airbus 8.764177\n",
      "Alstom 0.7416719\n",
      "ArcelorMittal 0.3395638\n",
      "AXA 1.0380744\n",
      "BNP Paribas 0.46878326\n",
      "Bouygues 0.8849352\n",
      "Capgemini 3.0809305\n",
      "Carrefour 1.0821848\n",
      "Crédit Agricole 0.40061003\n",
      "Danone 1.6589439\n",
      "Dassault Systèmes 6.2945924\n",
      "Engie 0.6387849\n",
      "EssilorLuxottica 1.8238492\n",
      "Eurofins Scientific 2.5639765\n",
      "Hermès 12.9868145\n",
      "Kering 4.085094\n",
      "L Oréal 6.749742\n",
      "Legrand 2.949231\n",
      "LVMH 6.1846495\n",
      "Michelin None\n",
      "Orange 0.7565549\n",
      "Pernod Ricard 2.8647637\n",
      "Publicis 1.4446332\n",
      "Renault 0.30591127\n",
      "Safran 4.5427885\n",
      "Saint-Gobain 0.8758432\n",
      "Sanofi 1.439386\n",
      "Schneider Electric 2.594406\n",
      "Société Générale 0.28334737\n",
      "Stellantis 0.6012631\n",
      "STMicroelectronics 2.8594406\n",
      "Teleperformance 4.2159486\n",
      "Thales 3.093676\n",
      "TotalEnergies 1.1468495\n",
      "Unibail-Rodamco-Westfield 0.29986134\n",
      "Veolia 1.139326\n",
      "Vinci 1.9634959\n",
      "Vivendi 0.4206749\n",
      "Worldline 1.3154297\n"
     ]
    }
   ],
   "source": [
    "for company in cac40:\n",
    "    data = yf.Ticker(company[1])\n",
    "    print(company[0], data.info.get('priceToBook'))"
   ]
  },
  {
   "cell_type": "code",
   "execution_count": null,
   "id": "857b3acd-e61e-4bcd-831c-a20c17b96ac7",
   "metadata": {},
   "outputs": [],
   "source": []
  },
  {
   "cell_type": "code",
   "execution_count": null,
   "id": "f1308123-609a-4580-95a3-750346b19a82",
   "metadata": {},
   "outputs": [],
   "source": []
  }
 ],
 "metadata": {
  "kernelspec": {
   "display_name": "Python 3 (ipykernel)",
   "language": "python",
   "name": "python3"
  },
  "language_info": {
   "codemirror_mode": {
    "name": "ipython",
    "version": 3
   },
   "file_extension": ".py",
   "mimetype": "text/x-python",
   "name": "python",
   "nbconvert_exporter": "python",
   "pygments_lexer": "ipython3",
   "version": "3.10.6"
  }
 },
 "nbformat": 4,
 "nbformat_minor": 5
}
